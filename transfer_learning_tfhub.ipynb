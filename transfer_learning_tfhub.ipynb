{
 "cells": [
  {
   "cell_type": "markdown",
   "metadata": {},
   "source": [
    "# Cassava Leaf Disease Classification - Kaggle Competition 2020 \n",
    "\n",
    "## Descrição\n",
    "\n",
    "Como o Segundo maior provedor de carboidratos na África, a mandioca é um alimento fundamental pois consegue resistir a condições adversas.\n",
    "Pelo menos 80% das fazendas familiares na África Subsaariana cultivam esta raiz rica em amido,\n",
    "mas as doenças virais são as principais fontes de baixos rendimentos. Com a ajuda da ciência de dados, pode ser possível identificar doenças comuns para que possam ser tratadas.\n",
    "Os métodos existentes de detecção de doenças exigem que os agricultores solicitem a ajuda de especialistas agrícolas financiados pelo governo para inspecionar visualmente e diagnosticar as plantas. Isso acaba sendo muito trabalhoso, com baixo suprimento e preço muito caro. Como um desafio adicional, soluções eficazes para os agricultores devem ter um bom desempenho sob restrições significativas, uma vez que os agricultores africanos só podem ter acesso a câmeras de qualidade móvel com baixa largura de banda.\n",
    "Nesta competição, apresentamos um conjunto de dados de 21.367 imagens rotuladas coletadas durante uma pesquisa regular em Uganda. A maioria das imagens foi coletada por agricultores tirando fotos de seus jardins e anotadas por especialistas do National Crops Resources Research Institute (NaCRRI) em colaboração com o laboratório de IA da Makerere University, Kampala. Este é um formato que representa de forma mais realista o que os agricultores precisam diagnosticar na vida real.\n",
    "A nossa tarefa é classificar cada imagem de mandioca em quatro categorias de doenças ou uma quinta categoria indicando uma folha saudável. Com a nossa ajuda, os agricultores podem ser capazes de identificar rapidamente as plantas doentes, potencialmente salvando suas safras antes que elas causem danos irreparáveis."
   ]
  },
  {
   "cell_type": "markdown",
   "metadata": {},
   "source": [
    "Nessa competição irei utilizar uma técnica chamada de Aprendizagem de transferência (Transfer Learning),já tinha visto antes, mas eu vi bem mais explicado no workshop do DoWhile2020, com o Developer Advocate do Google, Luiz Gustavo Martins, e vamos ver qual será a acurácia do modelo."
   ]
  },
  {
   "cell_type": "markdown",
   "metadata": {},
   "source": [
    "# Classes \n",
    "\n",
    "* 0 - \"Cassava Bacterial Blight (CBB)\n",
    "* 1 - \"Cassava Brown Streak Disease (CBSD)\"\n",
    "* 2 - \"Cassava Green Mottle (CGM)\"\n",
    "* 3 - \"Cassava Mosaic Disease (CMD)\"\n",
    "* 4 - \"Healthy\""
   ]
  },
  {
   "cell_type": "markdown",
   "metadata": {},
   "source": [
    "# Importando as bibliotecas necessárias"
   ]
  },
  {
   "cell_type": "code",
   "execution_count": 1,
   "metadata": {},
   "outputs": [],
   "source": [
    "import numpy as np\n",
    "import time\n",
    "\n",
    "import PIL.Image as Image\n",
    "import matplotlib.pylab as plt\n",
    "\n",
    "import tensorflow as tf\n",
    "import tensorflow_hub as hub\n",
    "\n",
    "import os\n",
    "os.environ[\"TFHUB_MODEL_LOAD_FORMAT\"] = \"COMPRESSED\""
   ]
  },
  {
   "cell_type": "code",
   "execution_count": 2,
   "metadata": {},
   "outputs": [],
   "source": [
    "BATCH_SIZE = 32\n",
    "img_height = 224\n",
    "img_width = 224\n",
    "IMAGE_SIZE = (img_width, img_height)\n",
    "\n"
   ]
  },
  {
   "cell_type": "code",
   "execution_count": 12,
   "metadata": {},
   "outputs": [],
   "source": [
    "# Carregando o modelo pré-treinado, irei utilizar o Inception_v3, pois é um modelo utilizado para plantas e animais\n",
    "\n",
    "feature_extractor_model =\"https://tfhub.dev/google/inaturalist/inception_v3/feature_vector/4\""
   ]
  },
  {
   "cell_type": "code",
   "execution_count": 13,
   "metadata": {},
   "outputs": [],
   "source": [
    "# Criando a feature extractor, e freezando as variáveis\n",
    "\n",
    "feature_extractor_layer = hub.KerasLayer(\n",
    "    feature_extractor_model, input_shape=(img_height, img_width, 3), trainable=False)"
   ]
  },
  {
   "cell_type": "code",
   "execution_count": 6,
   "metadata": {},
   "outputs": [],
   "source": [
    "# carregando o ImageDataGenerator, para o data augmentation, que nada mais é que aumentar o número de imagens fazendo várias modificações nelas, eu utilizei o aumento de zoom, rotação de imagem,\n",
    "# giro horizontal e etc.\n",
    "\n",
    "from tensorflow.keras.preprocessing.image import ImageDataGenerator\n",
    "\n",
    "data_gen_train = ImageDataGenerator(rescale=1/255., horizontal_flip=True, zoom_range=0.7,  width_shift_range=.25, height_shift_range=.25, rotation_range=.13)\n",
    "data_gen_val = ImageDataGenerator(rescale=1/255.)"
   ]
  },
  {
   "cell_type": "code",
   "execution_count": 7,
   "metadata": {},
   "outputs": [
    {
     "name": "stdout",
     "output_type": "stream",
     "text": [
      "Found 16280 images belonging to 5 classes.\n",
      "Found 5117 images belonging to 5 classes.\n"
     ]
    }
   ],
   "source": [
    "# pegando as imagens de treino, e validação pelo diretorio, vemos que temos 5 classes\n",
    "\n",
    "train_generator = data_gen_train.flow_from_directory('./train', target_size=(224,224), batch_size=100, color_mode='rgb', shuffle=True, class_mode='sparse')\n",
    "validation = data_gen_val.flow_from_directory('./validation', target_size=(224,224), batch_size=100, color_mode='rgb', shuffle=False, class_mode='sparse')"
   ]
  },
  {
   "cell_type": "code",
   "execution_count": 9,
   "metadata": {},
   "outputs": [
    {
     "name": "stdout",
     "output_type": "stream",
     "text": [
      "(100, 224, 224, 3)\n",
      "(100,)\n"
     ]
    }
   ],
   "source": [
    "for image_batch, labels_batch in train_generator:\n",
    "    print(image_batch.shape)\n",
    "    print(labels_batch.shape)\n",
    "    break"
   ]
  },
  {
   "cell_type": "code",
   "execution_count": 14,
   "metadata": {},
   "outputs": [
    {
     "name": "stdout",
     "output_type": "stream",
     "text": [
      "(100, 2048)\n"
     ]
    }
   ],
   "source": [
    "feature_batch = feature_extractor_layer(image_batch)\n",
    "print(feature_batch.shape)"
   ]
  },
  {
   "cell_type": "code",
   "execution_count": 15,
   "metadata": {},
   "outputs": [
    {
     "name": "stdout",
     "output_type": "stream",
     "text": [
      "Model: \"sequential\"\n",
      "_________________________________________________________________\n",
      "Layer (type)                 Output Shape              Param #   \n",
      "=================================================================\n",
      "keras_layer (KerasLayer)     (None, 2048)              21802784  \n",
      "_________________________________________________________________\n",
      "dropout (Dropout)            (None, 2048)              0         \n",
      "_________________________________________________________________\n",
      "dense (Dense)                (None, 5)                 10245     \n",
      "=================================================================\n",
      "Total params: 21,813,029\n",
      "Trainable params: 10,245\n",
      "Non-trainable params: 21,802,784\n",
      "_________________________________________________________________\n"
     ]
    }
   ],
   "source": [
    "model = tf.keras.Sequential([\n",
    "  feature_extractor_layer,\n",
    "  tf.keras.layers.Dropout(0.2),\n",
    "  tf.keras.layers.Dense(train_generator.num_classes,\n",
    "                        kernel_regularizer=tf.keras.regularizers.l2(0.0001))\n",
    "])\n",
    "\n",
    "model.summary()"
   ]
  },
  {
   "cell_type": "code",
   "execution_count": 21,
   "metadata": {},
   "outputs": [],
   "source": [
    "base_learning_rate = 0.005\n",
    "model.compile(\n",
    "  optimizer=tf.keras.optimizers.SGD(lr=base_learning_rate, momentum=0.9), \n",
    "  loss=tf.keras.losses.SparseCategoricalCrossentropy(from_logits=True),\n",
    "  metrics=['accuracy'])"
   ]
  },
  {
   "cell_type": "code",
   "execution_count": 22,
   "metadata": {},
   "outputs": [
    {
     "name": "stdout",
     "output_type": "stream",
     "text": [
      "Epoch 1/5\n",
      "162/162 [==============================] - 1133s 7s/step - loss: 0.9485 - accuracy: 0.6587 - val_loss: 0.8569 - val_accuracy: 0.6690\n",
      "Epoch 2/5\n",
      "162/162 [==============================] - 684s 4s/step - loss: 0.8317 - accuracy: 0.6930 - val_loss: 0.8042 - val_accuracy: 0.6980\n",
      "Epoch 3/5\n",
      "162/162 [==============================] - 611s 4s/step - loss: 0.8021 - accuracy: 0.7033 - val_loss: 0.7747 - val_accuracy: 0.7122\n",
      "Epoch 4/5\n",
      "162/162 [==============================] - 721s 4s/step - loss: 0.7921 - accuracy: 0.7114 - val_loss: 0.7236 - val_accuracy: 0.7355\n",
      "Epoch 5/5\n",
      "162/162 [==============================] - 641s 4s/step - loss: 0.7868 - accuracy: 0.7108 - val_loss: 0.7211 - val_accuracy: 0.7359\n"
     ]
    }
   ],
   "source": [
    "steps_per_epoch = train_generator.samples // train_generator.batch_size\n",
    "validation_steps = validation.samples // validation.batch_size\n",
    "history = model.fit(\n",
    "    train_generator,\n",
    "    epochs=5, steps_per_epoch=steps_per_epoch,\n",
    "    validation_data=validation,\n",
    "    validation_steps=validation_steps)"
   ]
  },
  {
   "cell_type": "code",
   "execution_count": 23,
   "metadata": {},
   "outputs": [
    {
     "name": "stdout",
     "output_type": "stream",
     "text": [
      "dict_keys(['loss', 'accuracy', 'val_loss', 'val_accuracy'])\n"
     ]
    },
    {
     "data": {
      "text/plain": [
       "<matplotlib.legend.Legend at 0x201eb24d6a0>"
      ]
     },
     "execution_count": 23,
     "metadata": {},
     "output_type": "execute_result"
    },
    {
     "data": {
      "image/png": "[encoded data removed]",
      "text/plain": [
       "<Figure size 720x432 with 2 Axes>"
      ]
     },
     "metadata": {
      "needs_background": "light"
     },
     "output_type": "display_data"
    }
   ],
   "source": [
    "# agora vamos verificar graficamente os resultados\n",
    "\n",
    "history_dict = history.history\n",
    "print(history_dict.keys())\n",
    "\n",
    "acc = history_dict['accuracy']\n",
    "val_acc = history_dict['val_accuracy']\n",
    "loss = history_dict['loss']\n",
    "val_loss = history_dict['val_loss']\n",
    "\n",
    "epochs = range(1, len(acc) + 1)\n",
    "fig = plt.figure(figsize=(10, 6))\n",
    "fig.tight_layout()\n",
    "\n",
    "plt.subplot(2, 1, 1)\n",
    "# \"bo\" is for \"blue dot\"\n",
    "plt.plot(epochs, loss, 'r', label='Training loss')\n",
    "# b is for \"solid blue line\"\n",
    "plt.plot(epochs, val_loss, 'b', label='Validation loss')\n",
    "plt.title('Training and validation loss')\n",
    "# plt.xlabel('Epochs')\n",
    "plt.ylabel('Loss')\n",
    "plt.legend()\n",
    "\n",
    "plt.subplot(2, 1, 2)\n",
    "plt.plot(epochs, acc, 'r', label='Training acc')\n",
    "plt.plot(epochs, val_acc, 'b', label='Validation acc')\n",
    "plt.title('Training and validation accuracy')\n",
    "plt.xlabel('Epochs')\n",
    "plt.ylabel('Accuracy')\n",
    "plt.legend(loc='lower right')"
   ]
  },
  {
   "cell_type": "code",
   "execution_count": 24,
   "metadata": {},
   "outputs": [
    {
     "name": "stdout",
     "output_type": "stream",
     "text": [
      "WARNING:tensorflow:From C:\\Users\\pauli\\anaconda3\\lib\\site-packages\\tensorflow\\python\\training\\tracking\\tracking.py:111: Model.state_updates (from tensorflow.python.keras.engine.training) is deprecated and will be removed in a future version.\n",
      "Instructions for updating:\n",
      "This property should not be used in TensorFlow 2.0, as updates are applied automatically.\n"
     ]
    },
    {
     "name": "stderr",
     "output_type": "stream",
     "text": [
      "WARNING:tensorflow:From C:\\Users\\pauli\\anaconda3\\lib\\site-packages\\tensorflow\\python\\training\\tracking\\tracking.py:111: Model.state_updates (from tensorflow.python.keras.engine.training) is deprecated and will be removed in a future version.\n",
      "Instructions for updating:\n",
      "This property should not be used in TensorFlow 2.0, as updates are applied automatically.\n"
     ]
    },
    {
     "name": "stdout",
     "output_type": "stream",
     "text": [
      "WARNING:tensorflow:From C:\\Users\\pauli\\anaconda3\\lib\\site-packages\\tensorflow\\python\\training\\tracking\\tracking.py:111: Layer.updates (from tensorflow.python.keras.engine.base_layer) is deprecated and will be removed in a future version.\n",
      "Instructions for updating:\n",
      "This property should not be used in TensorFlow 2.0, as updates are applied automatically.\n"
     ]
    },
    {
     "name": "stderr",
     "output_type": "stream",
     "text": [
      "WARNING:tensorflow:From C:\\Users\\pauli\\anaconda3\\lib\\site-packages\\tensorflow\\python\\training\\tracking\\tracking.py:111: Layer.updates (from tensorflow.python.keras.engine.base_layer) is deprecated and will be removed in a future version.\n",
      "Instructions for updating:\n",
      "This property should not be used in TensorFlow 2.0, as updates are applied automatically.\n"
     ]
    },
    {
     "name": "stdout",
     "output_type": "stream",
     "text": [
      "INFO:tensorflow:Assets written to: saved_model_inception/my_model\\assets\n"
     ]
    },
    {
     "name": "stderr",
     "output_type": "stream",
     "text": [
      "INFO:tensorflow:Assets written to: saved_model_inception/my_model\\assets\n"
     ]
    }
   ],
   "source": [
    "# agora vamos salvar o modelo para poder submeter no Kaggle\n",
    "model.save('saved_model_inception/my_model')"
   ]
  },
  {
   "cell_type": "markdown",
   "metadata": {},
   "source": [
    "após submissão no Kaggle esse foi o resultado de nossa acurácia. que foi uma melhor acurácia de antes, de outro modelo que utilizei, onde obtive um acerto de 0.67\n",
    "\n",
    "![](./final_score.png)\n",
    "\n"
   ]
  },
  {
   "cell_type": "code",
   "execution_count": null,
   "metadata": {},
   "outputs": [],
   "source": []
  }
 ],
 "metadata": {
  "kernelspec": {
   "display_name": "Python 3",
   "language": "python",
   "name": "python3"
  },
  "language_info": {
   "codemirror_mode": {
    "name": "ipython",
    "version": 3
   },
   "file_extension": ".py",
   "mimetype": "text/x-python",
   "name": "python",
   "nbconvert_exporter": "python",
   "pygments_lexer": "ipython3",
   "version": "3.8.3"
  }
 },
 "nbformat": 4,
 "nbformat_minor": 4
}
